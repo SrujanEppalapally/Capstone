{
 "cells": [
  {
   "cell_type": "code",
   "execution_count": 3,
   "id": "bfb4c316",
   "metadata": {},
   "outputs": [
    {
     "name": "stderr",
     "output_type": "stream",
     "text": [
      "<ipython-input-3-d2fd581be269>:9: WavFileWarning: Chunk (non-data) not understood, skipping it.\n",
      "  frame_rate, sound_info = wavfile.read(wav_file)\n"
     ]
    },
    {
     "name": "stdout",
     "output_type": "stream",
     "text": [
      "Conversion completed!\n"
     ]
    }
   ],
   "source": [
    "import os\n",
    "import numpy as np\n",
    "import pylab\n",
    "from scipy.io import wavfile\n",
    "from pathlib import Path\n",
    "\n",
    "# Function to get sound and frame info using scipy\n",
    "def get_wav_info(wav_file):\n",
    "    frame_rate, sound_info = wavfile.read(wav_file)\n",
    "    return sound_info, frame_rate\n",
    "\n",
    "# Paths\n",
    "input_directory = 'C:/Users/esruj/Desktop/Fall 2023/Capstone'  # Replace with your input folder path\n",
    "output_directory = 'C:/Users/esruj/Desktop/Fall 2023/Capstone/Images' # Replace with your output folder path\n",
    "os.makedirs(output_directory, exist_ok=True)\n",
    "\n",
    "# Process and convert WAV to spectrogram PNG\n",
    "for filename in os.listdir(input_directory):\n",
    "    if filename.endswith('.wav'):\n",
    "        file_path = os.path.join(input_directory, filename)\n",
    "        file_stem = Path(file_path).stem\n",
    "        file_dist_path = os.path.join(output_directory, file_stem)\n",
    "\n",
    "        # Converting signal to spectrogram and saving as PNG\n",
    "        if not os.path.exists(file_dist_path + '.png'):\n",
    "            sound_info, frame_rate = get_wav_info(file_path)\n",
    "            pylab.specgram(sound_info, Fs=frame_rate)\n",
    "            pylab.savefig(f'{file_dist_path}.png')\n",
    "            pylab.close()\n",
    "\n",
    "print(\"Conversion completed!\")\n"
   ]
  },
  {
   "cell_type": "code",
   "execution_count": 3,
   "id": "1f6e97d0",
   "metadata": {},
   "outputs": [
    {
     "name": "stdout",
     "output_type": "stream",
     "text": [
      "Processing complete. Spectrograms C:/Users/esruj/Desktop/Fall 2023/Capstone/Images1\n"
     ]
    }
   ],
   "source": [
    "import os\n",
    "import numpy as np\n",
    "import matplotlib.pyplot as plt\n",
    "from scipy.io import wavfile\n",
    "from scipy.signal import spectrogram, butter, lfilter, medfilt\n",
    "\n",
    "# Function to apply bandpass filter\n",
    "def bandpass_filter(data, lowcut, highcut, fs, order=5):\n",
    "    nyq = 0.5 * fs\n",
    "    low = lowcut / nyq\n",
    "    high = highcut / nyq\n",
    "    b, a = butter(order, [low, high], btype='band')\n",
    "    y = lfilter(b, a, data)\n",
    "    return y\n",
    "\n",
    "# Source folder containing .wav files\n",
    "source_folder = 'C:/Users/esruj/Desktop/Fall 2023/Capstone'  # Replace with your source folder path\n",
    "\n",
    "# Target folder to save spectrograms\n",
    "target_folder = 'C:/Users/esruj/Desktop/Fall 2023/Capstone/Images1'  # Replace with your target folder path\n",
    "os.makedirs(target_folder, exist_ok=True)  # Create target folder if it doesn't exist\n",
    "\n",
    "# Process each .wav file in the source folder\n",
    "for filename in os.listdir(source_folder):\n",
    "    if filename.lower().endswith('.wav'):\n",
    "        file_path = os.path.join(source_folder, filename)\n",
    "\n",
    "        # Load PCG signal\n",
    "        fs, signal = wavfile.read(file_path)  # fs is the sampling frequency\n",
    "\n",
    "        # Noise reduction\n",
    "        signal = medfilt(signal)  # Median filter\n",
    "        signal = bandpass_filter(signal, 25, 400, fs)  # Bandpass filter (adjust frequencies as needed)\n",
    "\n",
    "        # Generate spectrogram\n",
    "        frequencies, times, Sxx = spectrogram(signal, fs)\n",
    "\n",
    "        # Plotting the spectrogram\n",
    "        plt.figure(figsize=(10, 4))\n",
    "        plt.pcolormesh(times, frequencies, 10 * np.log10(Sxx), shading='gouraud')\n",
    "        plt.ylabel('Frequency [Hz]')\n",
    "        plt.xlabel('Time [sec]')\n",
    "        plt.title(f'Spectrogram of {filename}')\n",
    "        plt.colorbar(label='Intensity [dB]')\n",
    "\n",
    "        # Save the spectrogram as an image\n",
    "        spectrogram_path = os.path.join(target_folder, f'{os.path.splitext(filename)[0]}_spectrogram.png')\n",
    "        plt.savefig(spectrogram_path)\n",
    "        plt.close()  # Close the plot to free up memory\n",
    "\n",
    "print(\"Processing complete. Spectrograms\", target_folder)"
   ]
  },
  {
   "cell_type": "code",
   "execution_count": 7,
   "id": "81b270e1",
   "metadata": {},
   "outputs": [
    {
     "name": "stdout",
     "output_type": "stream",
     "text": [
      "Requirement already satisfied: PyWavelets in c:\\users\\esruj\\anaconda3\\lib\\site-packages (1.1.1)\n",
      "Requirement already satisfied: numpy>=1.13.3 in c:\\users\\esruj\\anaconda3\\lib\\site-packages (from PyWavelets) (1.19.5)\n",
      "Note: you may need to restart the kernel to use updated packages.\n"
     ]
    }
   ],
   "source": [
    "pip install PyWavelets"
   ]
  },
  {
   "cell_type": "code",
   "execution_count": 8,
   "id": "611830a1",
   "metadata": {},
   "outputs": [
    {
     "name": "stderr",
     "output_type": "stream",
     "text": [
      "<ipython-input-8-538f2ace82d2>:29: WavFileWarning: Chunk (non-data) not understood, skipping it.\n",
      "  fs, signal = wavfile.read(file_path)  # fs is the sampling frequency\n",
      "<ipython-input-8-538f2ace82d2>:40: RuntimeWarning: divide by zero encountered in log10\n",
      "  plt.pcolormesh(times, frequencies, 10 * np.log10(Sxx), shading='gouraud')\n"
     ]
    },
    {
     "name": "stdout",
     "output_type": "stream",
     "text": [
      "Processing complete. Spectrograms saved to: C:/Users/esruj/Desktop/Fall 2023/Capstone/Images1\n"
     ]
    }
   ],
   "source": [
    "import os\n",
    "import numpy as np\n",
    "import matplotlib.pyplot as plt\n",
    "from scipy.io import wavfile\n",
    "from scipy.signal import spectrogram, medfilt\n",
    "import pywt\n",
    "\n",
    "# Function to apply wavelet denoising\n",
    "def wavelet_denoise(signal, wavelet='db6', level=1):\n",
    "    coeffs = pywt.wavedec(signal, wavelet, level=level)\n",
    "    threshold = (np.sqrt(2*np.log(len(signal)))) / np.sqrt(2)\n",
    "    new_coeffs = list(map(lambda x: pywt.threshold(x, threshold, mode='soft'), coeffs))\n",
    "    denoised_signal = pywt.waverec(new_coeffs, wavelet)\n",
    "    return denoised_signal\n",
    "\n",
    "# Source folder containing .wav files\n",
    "source_folder = 'C:/Users/esruj/Desktop/Fall 2023/Capstone'  # Replace with your source folder path\n",
    "\n",
    "# Target folder to save spectrograms\n",
    "target_folder = 'C:/Users/esruj/Desktop/Fall 2023/Capstone/Images1' \n",
    "os.makedirs(target_folder, exist_ok=True)  \n",
    "\n",
    "# Process each .wav file in the source folder\n",
    "for filename in os.listdir(source_folder):\n",
    "    if filename.lower().endswith('.wav'):\n",
    "        file_path = os.path.join(source_folder, filename)\n",
    "\n",
    "        # Load PCG signal\n",
    "        fs, signal = wavfile.read(file_path)  # fs is the sampling frequency\n",
    "\n",
    "        # Noise reduction using wavelet denoising\n",
    "        signal = medfilt(signal)  # Median filter\n",
    "        signal = wavelet_denoise(signal)  # Wavelet denoising\n",
    "\n",
    "        # Generate spectrogram\n",
    "        frequencies, times, Sxx = spectrogram(signal, fs)\n",
    "\n",
    "        # Plotting the spectrogram\n",
    "        plt.figure(figsize=(10, 4))\n",
    "        plt.pcolormesh(times, frequencies, 10 * np.log10(Sxx), shading='gouraud')\n",
    "        plt.ylabel('Frequency [Hz]')\n",
    "        plt.xlabel('Time [sec]')\n",
    "        plt.title(f'Spectrogram of {filename}')\n",
    "        plt.colorbar(label='Intensity [dB]')\n",
    "\n",
    "        # Save the spectrogram as an image\n",
    "        spectrogram_path = os.path.join(target_folder, f'{os.path.splitext(filename)[0]}_spectrogram.png')\n",
    "        plt.savefig(spectrogram_path)\n",
    "        plt.close()  # Close the plot to free up memory\n",
    "\n",
    "print(\"Processing complete. Spectrograms saved to:\", target_folder)"
   ]
  },
  {
   "cell_type": "code",
   "execution_count": null,
   "id": "f48da729",
   "metadata": {},
   "outputs": [],
   "source": []
  },
  {
   "cell_type": "code",
   "execution_count": null,
   "id": "32032e12",
   "metadata": {},
   "outputs": [],
   "source": []
  }
 ],
 "metadata": {
  "kernelspec": {
   "display_name": "Python 3",
   "language": "python",
   "name": "python3"
  },
  "language_info": {
   "codemirror_mode": {
    "name": "ipython",
    "version": 3
   },
   "file_extension": ".py",
   "mimetype": "text/x-python",
   "name": "python",
   "nbconvert_exporter": "python",
   "pygments_lexer": "ipython3",
   "version": "3.8.8"
  }
 },
 "nbformat": 4,
 "nbformat_minor": 5
}
